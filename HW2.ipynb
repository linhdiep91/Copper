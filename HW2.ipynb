{
 "cells": [
  {
   "cell_type": "code",
   "execution_count": 4,
   "metadata": {},
   "outputs": [
    {
     "name": "stdout",
     "output_type": "stream",
     "text": [
      "This data describes the world copper market from 1951 through 1975.  In an\n",
      "example, in Gill, the outcome variable (of a 2 stage estimation) is the world\n",
      "consumption of copper for the 25 years.  The explanatory variables are the\n",
      "world consumption of copper in 1000 metric tons, the constant dollar adjusted\n",
      "price of copper, the price of a substitute, aluminum, an index of real per\n",
      "capita income base 1970, an annual measure of manufacturer inventory change,\n",
      "and a time trend.\n",
      "\n"
     ]
    }
   ],
   "source": [
    "import statsmodels.api as sm \n",
    "copper = sm.datasets.copper\n",
    "print (copper.DESCRLONG)\n",
    "import pandas as pd\n",
    "import numpy as np\n",
    "from scipy import stats\n",
    "import matplotlib.pyplot as plt"
   ]
  },
  {
   "cell_type": "code",
   "execution_count": 18,
   "metadata": {},
   "outputs": [
    {
     "data": {
      "text/html": [
       "<div>\n",
       "<style scoped>\n",
       "    .dataframe tbody tr th:only-of-type {\n",
       "        vertical-align: middle;\n",
       "    }\n",
       "\n",
       "    .dataframe tbody tr th {\n",
       "        vertical-align: top;\n",
       "    }\n",
       "\n",
       "    .dataframe thead th {\n",
       "        text-align: right;\n",
       "    }\n",
       "</style>\n",
       "<table border=\"1\" class=\"dataframe\">\n",
       "  <thead>\n",
       "    <tr style=\"text-align: right;\">\n",
       "      <th></th>\n",
       "      <th>WORLDCONSUMPTION</th>\n",
       "      <th>COPPERPRICE</th>\n",
       "      <th>INCOMEINDEX</th>\n",
       "      <th>ALUMPRICE</th>\n",
       "      <th>INVENTORYINDEX</th>\n",
       "      <th>TIME</th>\n",
       "    </tr>\n",
       "  </thead>\n",
       "  <tbody>\n",
       "    <tr>\n",
       "      <th>0</th>\n",
       "      <td>3173.0</td>\n",
       "      <td>26.56</td>\n",
       "      <td>0.70</td>\n",
       "      <td>19.76</td>\n",
       "      <td>0.98</td>\n",
       "      <td>1.0</td>\n",
       "    </tr>\n",
       "    <tr>\n",
       "      <th>1</th>\n",
       "      <td>3281.1</td>\n",
       "      <td>27.31</td>\n",
       "      <td>0.71</td>\n",
       "      <td>20.78</td>\n",
       "      <td>1.04</td>\n",
       "      <td>2.0</td>\n",
       "    </tr>\n",
       "    <tr>\n",
       "      <th>2</th>\n",
       "      <td>3135.7</td>\n",
       "      <td>32.95</td>\n",
       "      <td>0.72</td>\n",
       "      <td>22.55</td>\n",
       "      <td>1.05</td>\n",
       "      <td>3.0</td>\n",
       "    </tr>\n",
       "    <tr>\n",
       "      <th>3</th>\n",
       "      <td>3359.1</td>\n",
       "      <td>33.90</td>\n",
       "      <td>0.70</td>\n",
       "      <td>23.06</td>\n",
       "      <td>0.97</td>\n",
       "      <td>4.0</td>\n",
       "    </tr>\n",
       "    <tr>\n",
       "      <th>4</th>\n",
       "      <td>3755.1</td>\n",
       "      <td>42.70</td>\n",
       "      <td>0.74</td>\n",
       "      <td>24.93</td>\n",
       "      <td>1.02</td>\n",
       "      <td>5.0</td>\n",
       "    </tr>\n",
       "    <tr>\n",
       "      <th>5</th>\n",
       "      <td>3875.9</td>\n",
       "      <td>46.11</td>\n",
       "      <td>0.74</td>\n",
       "      <td>26.50</td>\n",
       "      <td>1.04</td>\n",
       "      <td>6.0</td>\n",
       "    </tr>\n",
       "    <tr>\n",
       "      <th>6</th>\n",
       "      <td>3905.7</td>\n",
       "      <td>31.70</td>\n",
       "      <td>0.74</td>\n",
       "      <td>27.24</td>\n",
       "      <td>0.98</td>\n",
       "      <td>7.0</td>\n",
       "    </tr>\n",
       "    <tr>\n",
       "      <th>7</th>\n",
       "      <td>3957.6</td>\n",
       "      <td>27.23</td>\n",
       "      <td>0.72</td>\n",
       "      <td>26.21</td>\n",
       "      <td>0.98</td>\n",
       "      <td>8.0</td>\n",
       "    </tr>\n",
       "    <tr>\n",
       "      <th>8</th>\n",
       "      <td>4279.1</td>\n",
       "      <td>32.89</td>\n",
       "      <td>0.75</td>\n",
       "      <td>26.09</td>\n",
       "      <td>1.03</td>\n",
       "      <td>9.0</td>\n",
       "    </tr>\n",
       "    <tr>\n",
       "      <th>9</th>\n",
       "      <td>4627.9</td>\n",
       "      <td>33.78</td>\n",
       "      <td>0.77</td>\n",
       "      <td>27.40</td>\n",
       "      <td>1.03</td>\n",
       "      <td>10.0</td>\n",
       "    </tr>\n",
       "    <tr>\n",
       "      <th>10</th>\n",
       "      <td>4910.2</td>\n",
       "      <td>31.66</td>\n",
       "      <td>0.76</td>\n",
       "      <td>26.94</td>\n",
       "      <td>0.98</td>\n",
       "      <td>11.0</td>\n",
       "    </tr>\n",
       "    <tr>\n",
       "      <th>11</th>\n",
       "      <td>4908.4</td>\n",
       "      <td>32.28</td>\n",
       "      <td>0.79</td>\n",
       "      <td>25.18</td>\n",
       "      <td>1.00</td>\n",
       "      <td>12.0</td>\n",
       "    </tr>\n",
       "    <tr>\n",
       "      <th>12</th>\n",
       "      <td>5327.9</td>\n",
       "      <td>32.38</td>\n",
       "      <td>0.83</td>\n",
       "      <td>23.94</td>\n",
       "      <td>0.97</td>\n",
       "      <td>13.0</td>\n",
       "    </tr>\n",
       "    <tr>\n",
       "      <th>13</th>\n",
       "      <td>5878.4</td>\n",
       "      <td>33.75</td>\n",
       "      <td>0.85</td>\n",
       "      <td>25.07</td>\n",
       "      <td>1.03</td>\n",
       "      <td>14.0</td>\n",
       "    </tr>\n",
       "    <tr>\n",
       "      <th>14</th>\n",
       "      <td>6075.2</td>\n",
       "      <td>36.25</td>\n",
       "      <td>0.89</td>\n",
       "      <td>25.37</td>\n",
       "      <td>1.08</td>\n",
       "      <td>15.0</td>\n",
       "    </tr>\n",
       "    <tr>\n",
       "      <th>15</th>\n",
       "      <td>6312.7</td>\n",
       "      <td>36.24</td>\n",
       "      <td>0.93</td>\n",
       "      <td>24.55</td>\n",
       "      <td>1.05</td>\n",
       "      <td>16.0</td>\n",
       "    </tr>\n",
       "    <tr>\n",
       "      <th>16</th>\n",
       "      <td>6056.8</td>\n",
       "      <td>38.23</td>\n",
       "      <td>0.95</td>\n",
       "      <td>24.98</td>\n",
       "      <td>1.03</td>\n",
       "      <td>17.0</td>\n",
       "    </tr>\n",
       "    <tr>\n",
       "      <th>17</th>\n",
       "      <td>6375.9</td>\n",
       "      <td>40.83</td>\n",
       "      <td>0.99</td>\n",
       "      <td>24.96</td>\n",
       "      <td>1.03</td>\n",
       "      <td>18.0</td>\n",
       "    </tr>\n",
       "    <tr>\n",
       "      <th>18</th>\n",
       "      <td>6974.3</td>\n",
       "      <td>44.62</td>\n",
       "      <td>1.00</td>\n",
       "      <td>25.52</td>\n",
       "      <td>0.99</td>\n",
       "      <td>19.0</td>\n",
       "    </tr>\n",
       "    <tr>\n",
       "      <th>19</th>\n",
       "      <td>7101.6</td>\n",
       "      <td>52.27</td>\n",
       "      <td>1.00</td>\n",
       "      <td>26.01</td>\n",
       "      <td>1.00</td>\n",
       "      <td>20.0</td>\n",
       "    </tr>\n",
       "    <tr>\n",
       "      <th>20</th>\n",
       "      <td>7071.7</td>\n",
       "      <td>45.16</td>\n",
       "      <td>1.02</td>\n",
       "      <td>25.46</td>\n",
       "      <td>0.96</td>\n",
       "      <td>21.0</td>\n",
       "    </tr>\n",
       "    <tr>\n",
       "      <th>21</th>\n",
       "      <td>7754.8</td>\n",
       "      <td>42.50</td>\n",
       "      <td>1.07</td>\n",
       "      <td>22.17</td>\n",
       "      <td>0.97</td>\n",
       "      <td>22.0</td>\n",
       "    </tr>\n",
       "    <tr>\n",
       "      <th>22</th>\n",
       "      <td>8480.3</td>\n",
       "      <td>43.70</td>\n",
       "      <td>1.12</td>\n",
       "      <td>18.56</td>\n",
       "      <td>0.98</td>\n",
       "      <td>23.0</td>\n",
       "    </tr>\n",
       "    <tr>\n",
       "      <th>23</th>\n",
       "      <td>8105.2</td>\n",
       "      <td>47.88</td>\n",
       "      <td>1.10</td>\n",
       "      <td>21.32</td>\n",
       "      <td>1.01</td>\n",
       "      <td>24.0</td>\n",
       "    </tr>\n",
       "    <tr>\n",
       "      <th>24</th>\n",
       "      <td>7157.2</td>\n",
       "      <td>36.33</td>\n",
       "      <td>1.07</td>\n",
       "      <td>22.75</td>\n",
       "      <td>0.94</td>\n",
       "      <td>25.0</td>\n",
       "    </tr>\n",
       "  </tbody>\n",
       "</table>\n",
       "</div>"
      ],
      "text/plain": [
       "    WORLDCONSUMPTION  COPPERPRICE  INCOMEINDEX  ALUMPRICE  INVENTORYINDEX  \\\n",
       "0             3173.0        26.56         0.70      19.76            0.98   \n",
       "1             3281.1        27.31         0.71      20.78            1.04   \n",
       "2             3135.7        32.95         0.72      22.55            1.05   \n",
       "3             3359.1        33.90         0.70      23.06            0.97   \n",
       "4             3755.1        42.70         0.74      24.93            1.02   \n",
       "5             3875.9        46.11         0.74      26.50            1.04   \n",
       "6             3905.7        31.70         0.74      27.24            0.98   \n",
       "7             3957.6        27.23         0.72      26.21            0.98   \n",
       "8             4279.1        32.89         0.75      26.09            1.03   \n",
       "9             4627.9        33.78         0.77      27.40            1.03   \n",
       "10            4910.2        31.66         0.76      26.94            0.98   \n",
       "11            4908.4        32.28         0.79      25.18            1.00   \n",
       "12            5327.9        32.38         0.83      23.94            0.97   \n",
       "13            5878.4        33.75         0.85      25.07            1.03   \n",
       "14            6075.2        36.25         0.89      25.37            1.08   \n",
       "15            6312.7        36.24         0.93      24.55            1.05   \n",
       "16            6056.8        38.23         0.95      24.98            1.03   \n",
       "17            6375.9        40.83         0.99      24.96            1.03   \n",
       "18            6974.3        44.62         1.00      25.52            0.99   \n",
       "19            7101.6        52.27         1.00      26.01            1.00   \n",
       "20            7071.7        45.16         1.02      25.46            0.96   \n",
       "21            7754.8        42.50         1.07      22.17            0.97   \n",
       "22            8480.3        43.70         1.12      18.56            0.98   \n",
       "23            8105.2        47.88         1.10      21.32            1.01   \n",
       "24            7157.2        36.33         1.07      22.75            0.94   \n",
       "\n",
       "    TIME  \n",
       "0    1.0  \n",
       "1    2.0  \n",
       "2    3.0  \n",
       "3    4.0  \n",
       "4    5.0  \n",
       "5    6.0  \n",
       "6    7.0  \n",
       "7    8.0  \n",
       "8    9.0  \n",
       "9   10.0  \n",
       "10  11.0  \n",
       "11  12.0  \n",
       "12  13.0  \n",
       "13  14.0  \n",
       "14  15.0  \n",
       "15  16.0  \n",
       "16  17.0  \n",
       "17  18.0  \n",
       "18  19.0  \n",
       "19  20.0  \n",
       "20  21.0  \n",
       "21  22.0  \n",
       "22  23.0  \n",
       "23  24.0  \n",
       "24  25.0  "
      ]
     },
     "execution_count": 18,
     "metadata": {},
     "output_type": "execute_result"
    }
   ],
   "source": [
    "dataset_copper = copper.load_pandas()\n",
    "df_copper = dataset_copper.data\n",
    "sm.datasets.copper.load_pandas().data"
   ]
  },
  {
   "cell_type": "markdown",
   "metadata": {},
   "source": [
    "# Question 1: What is the average World Consumption of the copper market in 25 years? What is the average distance between the each value of the data in the set and the average of AlumPrice?"
   ]
  },
  {
   "cell_type": "code",
   "execution_count": 11,
   "metadata": {},
   "outputs": [
    {
     "data": {
      "text/plain": [
       "WORLDCONSUMPTION    5433.6320\n",
       "COPPERPRICE           37.1684\n",
       "INCOMEINDEX            0.8664\n",
       "ALUMPRICE             24.2920\n",
       "INVENTORYINDEX         1.0056\n",
       "TIME                  13.0000\n",
       "dtype: float64"
      ]
     },
     "execution_count": 11,
     "metadata": {},
     "output_type": "execute_result"
    }
   ],
   "source": [
    "df_copper.mean()"
   ]
  },
  {
   "cell_type": "markdown",
   "metadata": {},
   "source": [
    "### The mean or average of World Consumption is 5433.6320"
   ]
  },
  {
   "cell_type": "code",
   "execution_count": 13,
   "metadata": {},
   "outputs": [
    {
     "data": {
      "text/plain": [
       "WORLDCONSUMPTION    1669.628887\n",
       "COPPERPRICE            6.911005\n",
       "INCOMEINDEX            0.144363\n",
       "ALUMPRICE              2.354434\n",
       "INVENTORYINDEX         0.034651\n",
       "TIME                   7.359801\n",
       "dtype: float64"
      ]
     },
     "execution_count": 13,
     "metadata": {},
     "output_type": "execute_result"
    }
   ],
   "source": [
    "df_copper.std()"
   ]
  },
  {
   "cell_type": "markdown",
   "metadata": {},
   "source": [
    "### The average distance between the values of the data in the set and the mean is the standard deviation of AlumPrice is 2.354434"
   ]
  },
  {
   "cell_type": "markdown",
   "metadata": {},
   "source": [
    "# Question 2: What year that has the highest World Consumption?"
   ]
  },
  {
   "cell_type": "code",
   "execution_count": 15,
   "metadata": {},
   "outputs": [
    {
     "data": {
      "text/html": [
       "<div>\n",
       "<style scoped>\n",
       "    .dataframe tbody tr th:only-of-type {\n",
       "        vertical-align: middle;\n",
       "    }\n",
       "\n",
       "    .dataframe tbody tr th {\n",
       "        vertical-align: top;\n",
       "    }\n",
       "\n",
       "    .dataframe thead th {\n",
       "        text-align: right;\n",
       "    }\n",
       "</style>\n",
       "<table border=\"1\" class=\"dataframe\">\n",
       "  <thead>\n",
       "    <tr style=\"text-align: right;\">\n",
       "      <th></th>\n",
       "      <th>WORLDCONSUMPTION</th>\n",
       "      <th>COPPERPRICE</th>\n",
       "      <th>INCOMEINDEX</th>\n",
       "      <th>ALUMPRICE</th>\n",
       "      <th>INVENTORYINDEX</th>\n",
       "      <th>TIME</th>\n",
       "    </tr>\n",
       "  </thead>\n",
       "  <tbody>\n",
       "    <tr>\n",
       "      <th>22</th>\n",
       "      <td>8480.3</td>\n",
       "      <td>43.7</td>\n",
       "      <td>1.12</td>\n",
       "      <td>18.56</td>\n",
       "      <td>0.98</td>\n",
       "      <td>23.0</td>\n",
       "    </tr>\n",
       "  </tbody>\n",
       "</table>\n",
       "</div>"
      ],
      "text/plain": [
       "    WORLDCONSUMPTION  COPPERPRICE  INCOMEINDEX  ALUMPRICE  INVENTORYINDEX  \\\n",
       "22            8480.3         43.7         1.12      18.56            0.98   \n",
       "\n",
       "    TIME  \n",
       "22  23.0  "
      ]
     },
     "execution_count": 15,
     "metadata": {},
     "output_type": "execute_result"
    }
   ],
   "source": [
    "df_copper[df_copper['WORLDCONSUMPTION']==df_copper['WORLDCONSUMPTION'].max()]"
   ]
  },
  {
   "cell_type": "markdown",
   "metadata": {},
   "source": [
    "### The maximum point is 8480.3. Therefore, 1973 has the highest World Consumption."
   ]
  },
  {
   "cell_type": "markdown",
   "metadata": {},
   "source": [
    "# Question 3: What year that has the lowest Copper price?"
   ]
  },
  {
   "cell_type": "code",
   "execution_count": 16,
   "metadata": {},
   "outputs": [
    {
     "data": {
      "text/html": [
       "<div>\n",
       "<style scoped>\n",
       "    .dataframe tbody tr th:only-of-type {\n",
       "        vertical-align: middle;\n",
       "    }\n",
       "\n",
       "    .dataframe tbody tr th {\n",
       "        vertical-align: top;\n",
       "    }\n",
       "\n",
       "    .dataframe thead th {\n",
       "        text-align: right;\n",
       "    }\n",
       "</style>\n",
       "<table border=\"1\" class=\"dataframe\">\n",
       "  <thead>\n",
       "    <tr style=\"text-align: right;\">\n",
       "      <th></th>\n",
       "      <th>WORLDCONSUMPTION</th>\n",
       "      <th>COPPERPRICE</th>\n",
       "      <th>INCOMEINDEX</th>\n",
       "      <th>ALUMPRICE</th>\n",
       "      <th>INVENTORYINDEX</th>\n",
       "      <th>TIME</th>\n",
       "    </tr>\n",
       "  </thead>\n",
       "  <tbody>\n",
       "    <tr>\n",
       "      <th>0</th>\n",
       "      <td>3173.0</td>\n",
       "      <td>26.56</td>\n",
       "      <td>0.7</td>\n",
       "      <td>19.76</td>\n",
       "      <td>0.98</td>\n",
       "      <td>1.0</td>\n",
       "    </tr>\n",
       "  </tbody>\n",
       "</table>\n",
       "</div>"
      ],
      "text/plain": [
       "   WORLDCONSUMPTION  COPPERPRICE  INCOMEINDEX  ALUMPRICE  INVENTORYINDEX  TIME\n",
       "0            3173.0        26.56          0.7      19.76            0.98   1.0"
      ]
     },
     "execution_count": 16,
     "metadata": {},
     "output_type": "execute_result"
    }
   ],
   "source": [
    "df_copper[df_copper['COPPERPRICE']==df_copper['COPPERPRICE'].min()]"
   ]
  },
  {
   "cell_type": "markdown",
   "metadata": {},
   "source": [
    "### The minimum point for Copper Price is 26.56. Therefore, 1951 has the lowest Alum Price."
   ]
  },
  {
   "cell_type": "markdown",
   "metadata": {},
   "source": [
    "# HW2 (Do not conduct the hypothesis test yet)\n",
    "# 1st hypothesis: \n"
   ]
  },
  {
   "cell_type": "code",
   "execution_count": 6,
   "metadata": {},
   "outputs": [
    {
     "data": {
      "text/plain": [
       "{'whiskers': [<matplotlib.lines.Line2D at 0x11d0049df0>,\n",
       "  <matplotlib.lines.Line2D at 0x11d02b5190>],\n",
       " 'caps': [<matplotlib.lines.Line2D at 0x11d02b54f0>,\n",
       "  <matplotlib.lines.Line2D at 0x11d02b5850>],\n",
       " 'boxes': [<matplotlib.lines.Line2D at 0x11d0049a90>],\n",
       " 'medians': [<matplotlib.lines.Line2D at 0x11d02b5bb0>],\n",
       " 'fliers': [<matplotlib.lines.Line2D at 0x11d02b5f10>],\n",
       " 'means': []}"
      ]
     },
     "execution_count": 6,
     "metadata": {},
     "output_type": "execute_result"
    },
    {
     "data": {
      "image/png": "[encoded data removed]",
      "text/plain": [
       "<Figure size 432x288 with 1 Axes>"
      ]
     },
     "metadata": {
      "needs_background": "light"
     },
     "output_type": "display_data"
    }
   ],
   "source": [
    "fig1, ax1 = plt.subplots()\n",
    "ax1.set_title('Average of World Consumption in 1951-1975')\n",
    "ax1.boxplot(df_copper['WORLDCONSUMPTION'])"
   ]
  },
  {
   "cell_type": "markdown",
   "metadata": {},
   "source": [
    "# 2nd Hypothesis: \n"
   ]
  },
  {
   "cell_type": "code",
   "execution_count": 10,
   "metadata": {},
   "outputs": [
    {
     "data": {
      "text/plain": [
       "Text(0, 0.5, 'Copper Price')"
      ]
     },
     "execution_count": 10,
     "metadata": {},
     "output_type": "execute_result"
    },
    {
     "data": {
      "image/png": "[encoded data removed]",
      "text/plain": [
       "<Figure size 432x288 with 1 Axes>"
      ]
     },
     "metadata": {
      "needs_background": "light"
     },
     "output_type": "display_data"
    }
   ],
   "source": [
    "fig = plt.figure()\n",
    "res = stats.probplot(df_copper['COPPERPRICE'], plot = plt)\n",
    "plt.title ('PROBABILITY PLOT FOR COPPER PRICE IN 1951-1975')\n",
    "plt.ylabel('Copper Price')"
   ]
  },
  {
   "cell_type": "markdown",
   "metadata": {},
   "source": [
    "# We reject null hypothesis and conclude that there is an outlier exist. "
   ]
  },
  {
   "cell_type": "markdown",
   "metadata": {},
   "source": [
    "# 3rd Hypothesis: The relationship between the amount of World Consumption and Time "
   ]
  },
  {
   "cell_type": "code",
   "execution_count": 21,
   "metadata": {},
   "outputs": [
    {
     "data": {
      "text/plain": [
       "<matplotlib.collections.PathCollection at 0x11cf235fa0>"
      ]
     },
     "execution_count": 21,
     "metadata": {},
     "output_type": "execute_result"
    },
    {
     "data": {
      "image/png": "[encoded data removed]",
      "text/plain": [
       "<Figure size 432x288 with 1 Axes>"
      ]
     },
     "metadata": {
      "needs_background": "light"
     },
     "output_type": "display_data"
    }
   ],
   "source": [
    "plt.scatter(df_copper['WORLDCONSUMPTION'], df_copper['TIME'])"
   ]
  },
  {
   "cell_type": "code",
   "execution_count": null,
   "metadata": {},
   "outputs": [],
   "source": []
  }
 ],
 "metadata": {
  "kernelspec": {
   "display_name": "Python 3",
   "language": "python",
   "name": "python3"
  },
  "language_info": {
   "codemirror_mode": {
    "name": "ipython",
    "version": 3
   },
   "file_extension": ".py",
   "mimetype": "text/x-python",
   "name": "python",
   "nbconvert_exporter": "python",
   "pygments_lexer": "ipython3",
   "version": "3.8.5"
  }
 },
 "nbformat": 4,
 "nbformat_minor": 4
}
